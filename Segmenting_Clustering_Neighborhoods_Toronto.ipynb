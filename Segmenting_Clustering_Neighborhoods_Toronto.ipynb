{
    "cells": [
        {
            "metadata": {},
            "cell_type": "code",
            "source": "import pandas as pd\nimport numpy as np\nimport requests\nfrom bs4 import BeautifulSoup",
            "execution_count": 1,
            "outputs": []
        },
        {
            "metadata": {},
            "cell_type": "code",
            "source": "url = \"https://en.wikipedia.org/wiki/List_of_postal_codes_of_Canada:_M\"\nresponse = requests.get(url)\nresults_page = BeautifulSoup(response.content, \"html.parser\")",
            "execution_count": 2,
            "outputs": []
        },
        {
            "metadata": {},
            "cell_type": "code",
            "source": "table = results_page.find(\"table\")\ntable_items = table.find_all(\"tr\")\ntable_head = table_items[0].find_all(\"th\")\ntable_rows = table_items[1:]",
            "execution_count": 3,
            "outputs": []
        },
        {
            "metadata": {},
            "cell_type": "code",
            "source": "column_names = [\"PostalCode\", \"Borough\", \"Neighborhood\"]\ntoronto_neighborhoods = pd.DataFrame(columns = column_names)",
            "execution_count": 4,
            "outputs": []
        },
        {
            "metadata": {},
            "cell_type": "code",
            "source": "for row in table_rows:\n    \n    row = row.find_all(\"td\")\n    PostalCode = row[0].get_text()\n    Borough = row[1].get_text()\n    Neighborhood = row[2].get_text().strip(\"\\n\")\n    \n    if Neighborhood == \"Not assigned\" and Borough != \"Not assigned\":\n        Neighborhood = Borough\n    \n    if Borough == \"Not assigned\":\n        continue\n    else:\n        if PostalCode in toronto_neighborhoods[\"PostalCode\"].tolist():\n            index = toronto_neighborhoods[\"PostalCode\"].tolist().index(PostalCode)\n            toronto_neighborhoods.loc[[index], [\"Neighborhood\"]] = toronto_neighborhoods.loc[[index], [\"Neighborhood\"]] + \", \" + Neighborhood \n        else:\n            toronto_neighborhoods = toronto_neighborhoods.append({\n                \"PostalCode\": PostalCode,\n                \"Borough\": Borough,\n                \"Neighborhood\": Neighborhood\n            }, ignore_index = True)",
            "execution_count": 5,
            "outputs": []
        },
        {
            "metadata": {},
            "cell_type": "code",
            "source": "toronto_neighborhoods",
            "execution_count": 6,
            "outputs": [
                {
                    "output_type": "execute_result",
                    "execution_count": 6,
                    "data": {
                        "text/plain": "    PostalCode             Borough  \\\n0        M1A\\n      Not assigned\\n   \n1        M2A\\n      Not assigned\\n   \n2        M3A\\n        North York\\n   \n3        M4A\\n        North York\\n   \n4        M5A\\n  Downtown Toronto\\n   \n5        M6A\\n        North York\\n   \n6        M7A\\n  Downtown Toronto\\n   \n7        M8A\\n      Not assigned\\n   \n8        M9A\\n         Etobicoke\\n   \n9        M1B\\n       Scarborough\\n   \n10       M2B\\n      Not assigned\\n   \n11       M3B\\n        North York\\n   \n12       M4B\\n         East York\\n   \n13       M5B\\n  Downtown Toronto\\n   \n14       M6B\\n        North York\\n   \n15       M7B\\n      Not assigned\\n   \n16       M8B\\n      Not assigned\\n   \n17       M9B\\n         Etobicoke\\n   \n18       M1C\\n       Scarborough\\n   \n19       M2C\\n      Not assigned\\n   \n20       M3C\\n        North York\\n   \n21       M4C\\n         East York\\n   \n22       M5C\\n  Downtown Toronto\\n   \n23       M6C\\n              York\\n   \n24       M7C\\n      Not assigned\\n   \n25       M8C\\n      Not assigned\\n   \n26       M9C\\n         Etobicoke\\n   \n27       M1E\\n       Scarborough\\n   \n28       M2E\\n      Not assigned\\n   \n29       M3E\\n      Not assigned\\n   \n..         ...                 ...   \n150      M7W\\n      Not assigned\\n   \n151      M8W\\n         Etobicoke\\n   \n152      M9W\\n         Etobicoke\\n   \n153      M1X\\n       Scarborough\\n   \n154      M2X\\n      Not assigned\\n   \n155      M3X\\n      Not assigned\\n   \n156      M4X\\n  Downtown Toronto\\n   \n157      M5X\\n  Downtown Toronto\\n   \n158      M6X\\n      Not assigned\\n   \n159      M7X\\n      Not assigned\\n   \n160      M8X\\n         Etobicoke\\n   \n161      M9X\\n      Not assigned\\n   \n162      M1Y\\n      Not assigned\\n   \n163      M2Y\\n      Not assigned\\n   \n164      M3Y\\n      Not assigned\\n   \n165      M4Y\\n  Downtown Toronto\\n   \n166      M5Y\\n      Not assigned\\n   \n167      M6Y\\n      Not assigned\\n   \n168      M7Y\\n      East Toronto\\n   \n169      M8Y\\n         Etobicoke\\n   \n170      M9Y\\n      Not assigned\\n   \n171      M1Z\\n      Not assigned\\n   \n172      M2Z\\n      Not assigned\\n   \n173      M3Z\\n      Not assigned\\n   \n174      M4Z\\n      Not assigned\\n   \n175      M5Z\\n      Not assigned\\n   \n176      M6Z\\n      Not assigned\\n   \n177      M7Z\\n      Not assigned\\n   \n178      M8Z\\n         Etobicoke\\n   \n179      M9Z\\n      Not assigned\\n   \n\n                                          Neighborhood  \n0                                                       \n1                                                       \n2                                            Parkwoods  \n3                                     Victoria Village  \n4                           Regent Park / Harbourfront  \n5                    Lawrence Manor / Lawrence Heights  \n6         Queen's Park / Ontario Provincial Government  \n7                                                       \n8                                     Islington Avenue  \n9                                      Malvern / Rouge  \n10                                                      \n11                                           Don Mills  \n12                    Parkview Hill / Woodbine Gardens  \n13                            Garden District, Ryerson  \n14                                           Glencairn  \n15                                                      \n16                                                      \n17   West Deane Park / Princess Gardens / Martin Gr...  \n18            Rouge Hill / Port Union / Highland Creek  \n19                                                      \n20                                           Don Mills  \n21                                    Woodbine Heights  \n22                                      St. James Town  \n23                                  Humewood-Cedarvale  \n24                                                      \n25                                                      \n26   Eringate / Bloordale Gardens / Old Burnhamthor...  \n27                 Guildwood / Morningside / West Hill  \n28                                                      \n29                                                      \n..                                                 ...  \n150                                                     \n151                            Alderwood / Long Branch  \n152                                          Northwest  \n153                                        Upper Rouge  \n154                                                     \n155                                                     \n156                       St. James Town / Cabbagetown  \n157            First Canadian Place / Underground city  \n158                                                     \n159                                                     \n160   The Kingsway / Montgomery Road  / Old Mill North  \n161                                                     \n162                                                     \n163                                                     \n164                                                     \n165                               Church and Wellesley  \n166                                                     \n167                                                     \n168              Business reply mail Processing CentrE  \n169  Old Mill South / King's Mill Park / Sunnylea /...  \n170                                                     \n171                                                     \n172                                                     \n173                                                     \n174                                                     \n175                                                     \n176                                                     \n177                                                     \n178  Mimico NW / The Queensway West / South of Bloo...  \n179                                                     \n\n[180 rows x 3 columns]",
                        "text/html": "<div>\n<style scoped>\n    .dataframe tbody tr th:only-of-type {\n        vertical-align: middle;\n    }\n\n    .dataframe tbody tr th {\n        vertical-align: top;\n    }\n\n    .dataframe thead th {\n        text-align: right;\n    }\n</style>\n<table border=\"1\" class=\"dataframe\">\n  <thead>\n    <tr style=\"text-align: right;\">\n      <th></th>\n      <th>PostalCode</th>\n      <th>Borough</th>\n      <th>Neighborhood</th>\n    </tr>\n  </thead>\n  <tbody>\n    <tr>\n      <th>0</th>\n      <td>M1A\\n</td>\n      <td>Not assigned\\n</td>\n      <td></td>\n    </tr>\n    <tr>\n      <th>1</th>\n      <td>M2A\\n</td>\n      <td>Not assigned\\n</td>\n      <td></td>\n    </tr>\n    <tr>\n      <th>2</th>\n      <td>M3A\\n</td>\n      <td>North York\\n</td>\n      <td>Parkwoods</td>\n    </tr>\n    <tr>\n      <th>3</th>\n      <td>M4A\\n</td>\n      <td>North York\\n</td>\n      <td>Victoria Village</td>\n    </tr>\n    <tr>\n      <th>4</th>\n      <td>M5A\\n</td>\n      <td>Downtown Toronto\\n</td>\n      <td>Regent Park / Harbourfront</td>\n    </tr>\n    <tr>\n      <th>5</th>\n      <td>M6A\\n</td>\n      <td>North York\\n</td>\n      <td>Lawrence Manor / Lawrence Heights</td>\n    </tr>\n    <tr>\n      <th>6</th>\n      <td>M7A\\n</td>\n      <td>Downtown Toronto\\n</td>\n      <td>Queen's Park / Ontario Provincial Government</td>\n    </tr>\n    <tr>\n      <th>7</th>\n      <td>M8A\\n</td>\n      <td>Not assigned\\n</td>\n      <td></td>\n    </tr>\n    <tr>\n      <th>8</th>\n      <td>M9A\\n</td>\n      <td>Etobicoke\\n</td>\n      <td>Islington Avenue</td>\n    </tr>\n    <tr>\n      <th>9</th>\n      <td>M1B\\n</td>\n      <td>Scarborough\\n</td>\n      <td>Malvern / Rouge</td>\n    </tr>\n    <tr>\n      <th>10</th>\n      <td>M2B\\n</td>\n      <td>Not assigned\\n</td>\n      <td></td>\n    </tr>\n    <tr>\n      <th>11</th>\n      <td>M3B\\n</td>\n      <td>North York\\n</td>\n      <td>Don Mills</td>\n    </tr>\n    <tr>\n      <th>12</th>\n      <td>M4B\\n</td>\n      <td>East York\\n</td>\n      <td>Parkview Hill / Woodbine Gardens</td>\n    </tr>\n    <tr>\n      <th>13</th>\n      <td>M5B\\n</td>\n      <td>Downtown Toronto\\n</td>\n      <td>Garden District, Ryerson</td>\n    </tr>\n    <tr>\n      <th>14</th>\n      <td>M6B\\n</td>\n      <td>North York\\n</td>\n      <td>Glencairn</td>\n    </tr>\n    <tr>\n      <th>15</th>\n      <td>M7B\\n</td>\n      <td>Not assigned\\n</td>\n      <td></td>\n    </tr>\n    <tr>\n      <th>16</th>\n      <td>M8B\\n</td>\n      <td>Not assigned\\n</td>\n      <td></td>\n    </tr>\n    <tr>\n      <th>17</th>\n      <td>M9B\\n</td>\n      <td>Etobicoke\\n</td>\n      <td>West Deane Park / Princess Gardens / Martin Gr...</td>\n    </tr>\n    <tr>\n      <th>18</th>\n      <td>M1C\\n</td>\n      <td>Scarborough\\n</td>\n      <td>Rouge Hill / Port Union / Highland Creek</td>\n    </tr>\n    <tr>\n      <th>19</th>\n      <td>M2C\\n</td>\n      <td>Not assigned\\n</td>\n      <td></td>\n    </tr>\n    <tr>\n      <th>20</th>\n      <td>M3C\\n</td>\n      <td>North York\\n</td>\n      <td>Don Mills</td>\n    </tr>\n    <tr>\n      <th>21</th>\n      <td>M4C\\n</td>\n      <td>East York\\n</td>\n      <td>Woodbine Heights</td>\n    </tr>\n    <tr>\n      <th>22</th>\n      <td>M5C\\n</td>\n      <td>Downtown Toronto\\n</td>\n      <td>St. James Town</td>\n    </tr>\n    <tr>\n      <th>23</th>\n      <td>M6C\\n</td>\n      <td>York\\n</td>\n      <td>Humewood-Cedarvale</td>\n    </tr>\n    <tr>\n      <th>24</th>\n      <td>M7C\\n</td>\n      <td>Not assigned\\n</td>\n      <td></td>\n    </tr>\n    <tr>\n      <th>25</th>\n      <td>M8C\\n</td>\n      <td>Not assigned\\n</td>\n      <td></td>\n    </tr>\n    <tr>\n      <th>26</th>\n      <td>M9C\\n</td>\n      <td>Etobicoke\\n</td>\n      <td>Eringate / Bloordale Gardens / Old Burnhamthor...</td>\n    </tr>\n    <tr>\n      <th>27</th>\n      <td>M1E\\n</td>\n      <td>Scarborough\\n</td>\n      <td>Guildwood / Morningside / West Hill</td>\n    </tr>\n    <tr>\n      <th>28</th>\n      <td>M2E\\n</td>\n      <td>Not assigned\\n</td>\n      <td></td>\n    </tr>\n    <tr>\n      <th>29</th>\n      <td>M3E\\n</td>\n      <td>Not assigned\\n</td>\n      <td></td>\n    </tr>\n    <tr>\n      <th>...</th>\n      <td>...</td>\n      <td>...</td>\n      <td>...</td>\n    </tr>\n    <tr>\n      <th>150</th>\n      <td>M7W\\n</td>\n      <td>Not assigned\\n</td>\n      <td></td>\n    </tr>\n    <tr>\n      <th>151</th>\n      <td>M8W\\n</td>\n      <td>Etobicoke\\n</td>\n      <td>Alderwood / Long Branch</td>\n    </tr>\n    <tr>\n      <th>152</th>\n      <td>M9W\\n</td>\n      <td>Etobicoke\\n</td>\n      <td>Northwest</td>\n    </tr>\n    <tr>\n      <th>153</th>\n      <td>M1X\\n</td>\n      <td>Scarborough\\n</td>\n      <td>Upper Rouge</td>\n    </tr>\n    <tr>\n      <th>154</th>\n      <td>M2X\\n</td>\n      <td>Not assigned\\n</td>\n      <td></td>\n    </tr>\n    <tr>\n      <th>155</th>\n      <td>M3X\\n</td>\n      <td>Not assigned\\n</td>\n      <td></td>\n    </tr>\n    <tr>\n      <th>156</th>\n      <td>M4X\\n</td>\n      <td>Downtown Toronto\\n</td>\n      <td>St. James Town / Cabbagetown</td>\n    </tr>\n    <tr>\n      <th>157</th>\n      <td>M5X\\n</td>\n      <td>Downtown Toronto\\n</td>\n      <td>First Canadian Place / Underground city</td>\n    </tr>\n    <tr>\n      <th>158</th>\n      <td>M6X\\n</td>\n      <td>Not assigned\\n</td>\n      <td></td>\n    </tr>\n    <tr>\n      <th>159</th>\n      <td>M7X\\n</td>\n      <td>Not assigned\\n</td>\n      <td></td>\n    </tr>\n    <tr>\n      <th>160</th>\n      <td>M8X\\n</td>\n      <td>Etobicoke\\n</td>\n      <td>The Kingsway / Montgomery Road  / Old Mill North</td>\n    </tr>\n    <tr>\n      <th>161</th>\n      <td>M9X\\n</td>\n      <td>Not assigned\\n</td>\n      <td></td>\n    </tr>\n    <tr>\n      <th>162</th>\n      <td>M1Y\\n</td>\n      <td>Not assigned\\n</td>\n      <td></td>\n    </tr>\n    <tr>\n      <th>163</th>\n      <td>M2Y\\n</td>\n      <td>Not assigned\\n</td>\n      <td></td>\n    </tr>\n    <tr>\n      <th>164</th>\n      <td>M3Y\\n</td>\n      <td>Not assigned\\n</td>\n      <td></td>\n    </tr>\n    <tr>\n      <th>165</th>\n      <td>M4Y\\n</td>\n      <td>Downtown Toronto\\n</td>\n      <td>Church and Wellesley</td>\n    </tr>\n    <tr>\n      <th>166</th>\n      <td>M5Y\\n</td>\n      <td>Not assigned\\n</td>\n      <td></td>\n    </tr>\n    <tr>\n      <th>167</th>\n      <td>M6Y\\n</td>\n      <td>Not assigned\\n</td>\n      <td></td>\n    </tr>\n    <tr>\n      <th>168</th>\n      <td>M7Y\\n</td>\n      <td>East Toronto\\n</td>\n      <td>Business reply mail Processing CentrE</td>\n    </tr>\n    <tr>\n      <th>169</th>\n      <td>M8Y\\n</td>\n      <td>Etobicoke\\n</td>\n      <td>Old Mill South / King's Mill Park / Sunnylea /...</td>\n    </tr>\n    <tr>\n      <th>170</th>\n      <td>M9Y\\n</td>\n      <td>Not assigned\\n</td>\n      <td></td>\n    </tr>\n    <tr>\n      <th>171</th>\n      <td>M1Z\\n</td>\n      <td>Not assigned\\n</td>\n      <td></td>\n    </tr>\n    <tr>\n      <th>172</th>\n      <td>M2Z\\n</td>\n      <td>Not assigned\\n</td>\n      <td></td>\n    </tr>\n    <tr>\n      <th>173</th>\n      <td>M3Z\\n</td>\n      <td>Not assigned\\n</td>\n      <td></td>\n    </tr>\n    <tr>\n      <th>174</th>\n      <td>M4Z\\n</td>\n      <td>Not assigned\\n</td>\n      <td></td>\n    </tr>\n    <tr>\n      <th>175</th>\n      <td>M5Z\\n</td>\n      <td>Not assigned\\n</td>\n      <td></td>\n    </tr>\n    <tr>\n      <th>176</th>\n      <td>M6Z\\n</td>\n      <td>Not assigned\\n</td>\n      <td></td>\n    </tr>\n    <tr>\n      <th>177</th>\n      <td>M7Z\\n</td>\n      <td>Not assigned\\n</td>\n      <td></td>\n    </tr>\n    <tr>\n      <th>178</th>\n      <td>M8Z\\n</td>\n      <td>Etobicoke\\n</td>\n      <td>Mimico NW / The Queensway West / South of Bloo...</td>\n    </tr>\n    <tr>\n      <th>179</th>\n      <td>M9Z\\n</td>\n      <td>Not assigned\\n</td>\n      <td></td>\n    </tr>\n  </tbody>\n</table>\n<p>180 rows \u00d7 3 columns</p>\n</div>"
                    },
                    "metadata": {}
                }
            ]
        },
        {
            "metadata": {},
            "cell_type": "code",
            "source": "toronto_neighborhoods.shape",
            "execution_count": 7,
            "outputs": [
                {
                    "output_type": "execute_result",
                    "execution_count": 7,
                    "data": {
                        "text/plain": "(180, 3)"
                    },
                    "metadata": {}
                }
            ]
        },
        {
            "metadata": {},
            "cell_type": "code",
            "source": "",
            "execution_count": null,
            "outputs": []
        }
    ],
    "metadata": {
        "kernelspec": {
            "name": "python3",
            "display_name": "Python 3.6",
            "language": "python"
        },
        "language_info": {
            "name": "python",
            "version": "3.6.9",
            "mimetype": "text/x-python",
            "codemirror_mode": {
                "name": "ipython",
                "version": 3
            },
            "pygments_lexer": "ipython3",
            "nbconvert_exporter": "python",
            "file_extension": ".py"
        }
    },
    "nbformat": 4,
    "nbformat_minor": 1
}